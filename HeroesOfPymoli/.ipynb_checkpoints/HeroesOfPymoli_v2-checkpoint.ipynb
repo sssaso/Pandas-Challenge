{
 "cells": [
  {
   "cell_type": "code",
   "execution_count": 1,
   "metadata": {},
   "outputs": [],
   "source": [
    "import pandas as pd"
   ]
  },
  {
   "cell_type": "code",
   "execution_count": 2,
   "metadata": {},
   "outputs": [
    {
     "data": {
      "text/html": [
       "<div>\n",
       "<style scoped>\n",
       "    .dataframe tbody tr th:only-of-type {\n",
       "        vertical-align: middle;\n",
       "    }\n",
       "\n",
       "    .dataframe tbody tr th {\n",
       "        vertical-align: top;\n",
       "    }\n",
       "\n",
       "    .dataframe thead th {\n",
       "        text-align: right;\n",
       "    }\n",
       "</style>\n",
       "<table border=\"1\" class=\"dataframe\">\n",
       "  <thead>\n",
       "    <tr style=\"text-align: right;\">\n",
       "      <th></th>\n",
       "      <th>Purchase ID</th>\n",
       "      <th>SN</th>\n",
       "      <th>Age</th>\n",
       "      <th>Gender</th>\n",
       "      <th>Item ID</th>\n",
       "      <th>Item Name</th>\n",
       "      <th>Price</th>\n",
       "    </tr>\n",
       "  </thead>\n",
       "  <tbody>\n",
       "    <tr>\n",
       "      <th>0</th>\n",
       "      <td>0</td>\n",
       "      <td>Lisim78</td>\n",
       "      <td>20</td>\n",
       "      <td>Male</td>\n",
       "      <td>108</td>\n",
       "      <td>Extraction, Quickblade Of Trembling Hands</td>\n",
       "      <td>3.53</td>\n",
       "    </tr>\n",
       "    <tr>\n",
       "      <th>1</th>\n",
       "      <td>1</td>\n",
       "      <td>Lisovynya38</td>\n",
       "      <td>40</td>\n",
       "      <td>Male</td>\n",
       "      <td>143</td>\n",
       "      <td>Frenzied Scimitar</td>\n",
       "      <td>1.56</td>\n",
       "    </tr>\n",
       "    <tr>\n",
       "      <th>2</th>\n",
       "      <td>2</td>\n",
       "      <td>Ithergue48</td>\n",
       "      <td>24</td>\n",
       "      <td>Male</td>\n",
       "      <td>92</td>\n",
       "      <td>Final Critic</td>\n",
       "      <td>4.88</td>\n",
       "    </tr>\n",
       "    <tr>\n",
       "      <th>3</th>\n",
       "      <td>3</td>\n",
       "      <td>Chamassasya86</td>\n",
       "      <td>24</td>\n",
       "      <td>Male</td>\n",
       "      <td>100</td>\n",
       "      <td>Blindscythe</td>\n",
       "      <td>3.27</td>\n",
       "    </tr>\n",
       "    <tr>\n",
       "      <th>4</th>\n",
       "      <td>4</td>\n",
       "      <td>Iskosia90</td>\n",
       "      <td>23</td>\n",
       "      <td>Male</td>\n",
       "      <td>131</td>\n",
       "      <td>Fury</td>\n",
       "      <td>1.44</td>\n",
       "    </tr>\n",
       "  </tbody>\n",
       "</table>\n",
       "</div>"
      ],
      "text/plain": [
       "   Purchase ID             SN  Age Gender  Item ID  \\\n",
       "0            0        Lisim78   20   Male      108   \n",
       "1            1    Lisovynya38   40   Male      143   \n",
       "2            2     Ithergue48   24   Male       92   \n",
       "3            3  Chamassasya86   24   Male      100   \n",
       "4            4      Iskosia90   23   Male      131   \n",
       "\n",
       "                                   Item Name  Price  \n",
       "0  Extraction, Quickblade Of Trembling Hands   3.53  \n",
       "1                          Frenzied Scimitar   1.56  \n",
       "2                               Final Critic   4.88  \n",
       "3                                Blindscythe   3.27  \n",
       "4                                       Fury   1.44  "
      ]
     },
     "execution_count": 2,
     "metadata": {},
     "output_type": "execute_result"
    }
   ],
   "source": [
    "file_to_load = \"Resources/purchase_data.csv\"\n",
    "purchase_data = pd.read_csv(file_to_load)\n",
    "purchase_data.head()"
   ]
  },
  {
   "cell_type": "code",
   "execution_count": 5,
   "metadata": {},
   "outputs": [
    {
     "data": {
      "text/html": [
       "<div>\n",
       "<style scoped>\n",
       "    .dataframe tbody tr th:only-of-type {\n",
       "        vertical-align: middle;\n",
       "    }\n",
       "\n",
       "    .dataframe tbody tr th {\n",
       "        vertical-align: top;\n",
       "    }\n",
       "\n",
       "    .dataframe thead th {\n",
       "        text-align: right;\n",
       "    }\n",
       "</style>\n",
       "<table border=\"1\" class=\"dataframe\">\n",
       "  <thead>\n",
       "    <tr style=\"text-align: right;\">\n",
       "      <th></th>\n",
       "      <th>Total Players</th>\n",
       "    </tr>\n",
       "  </thead>\n",
       "  <tbody>\n",
       "    <tr>\n",
       "      <th>0</th>\n",
       "      <td>576</td>\n",
       "    </tr>\n",
       "  </tbody>\n",
       "</table>\n",
       "</div>"
      ],
      "text/plain": [
       "   Total Players\n",
       "0            576"
      ]
     },
     "execution_count": 5,
     "metadata": {},
     "output_type": "execute_result"
    }
   ],
   "source": [
    "#1.Total number of players #\n",
    "total_players = len(purchase_data[\"SN\"].unique())\n",
    "totalPlayers_df = pd.DataFrame({\"Total Players\":[total_players]})  \n",
    "totalPlayers_df.head()"
   ]
  },
  {
   "cell_type": "code",
   "execution_count": 9,
   "metadata": {},
   "outputs": [
    {
     "data": {
      "text/html": [
       "<div>\n",
       "<style scoped>\n",
       "    .dataframe tbody tr th:only-of-type {\n",
       "        vertical-align: middle;\n",
       "    }\n",
       "\n",
       "    .dataframe tbody tr th {\n",
       "        vertical-align: top;\n",
       "    }\n",
       "\n",
       "    .dataframe thead th {\n",
       "        text-align: right;\n",
       "    }\n",
       "</style>\n",
       "<table border=\"1\" class=\"dataframe\">\n",
       "  <thead>\n",
       "    <tr style=\"text-align: right;\">\n",
       "      <th></th>\n",
       "      <th>Number of Unique Items</th>\n",
       "      <th>Average Price</th>\n",
       "      <th>Number of Purchases</th>\n",
       "      <th>Total Revenue</th>\n",
       "    </tr>\n",
       "  </thead>\n",
       "  <tbody>\n",
       "    <tr>\n",
       "      <th>0</th>\n",
       "      <td>179</td>\n",
       "      <td>$3.05</td>\n",
       "      <td>780</td>\n",
       "      <td>$2,379.77</td>\n",
       "    </tr>\n",
       "  </tbody>\n",
       "</table>\n",
       "</div>"
      ],
      "text/plain": [
       "   Number of Unique Items Average Price  Number of Purchases Total Revenue\n",
       "0                     179         $3.05                  780     $2,379.77"
      ]
     },
     "execution_count": 9,
     "metadata": {},
     "output_type": "execute_result"
    }
   ],
   "source": [
    "# Purchasing_Analysis #\n",
    "UniqItems = purchase_data[\"Item Name\"].unique() # <-- series\n",
    "AvgPurPrice = purchase_data[\"Price\"].mean() # default axis = 0, meaning row, vertically\n",
    "Num_Purchase = purchase_data[\"Purchase ID\"].count()\n",
    "totalRev = purchase_data[\"Price\"].sum() # default axis = 0, meaning row, vertically\n",
    "\n",
    "Purchasing_Analysis_df =pd.DataFrame({\"Number of Unique Items\":len(UniqItems),\n",
    "                                    \"Average Price\":\"${:,.2f}\".format(AvgPurPrice),\n",
    "                                    \"Number of Purchases\": [Num_Purchase],\n",
    "                                    \"Total Revenue\":\"${:,.2f}\".format(totalRev)})\n",
    "Purchasing_Analysis_df"
   ]
  },
  {
   "cell_type": "code",
   "execution_count": 11,
   "metadata": {},
   "outputs": [
    {
     "data": {
      "text/html": [
       "<div>\n",
       "<style scoped>\n",
       "    .dataframe tbody tr th:only-of-type {\n",
       "        vertical-align: middle;\n",
       "    }\n",
       "\n",
       "    .dataframe tbody tr th {\n",
       "        vertical-align: top;\n",
       "    }\n",
       "\n",
       "    .dataframe thead th {\n",
       "        text-align: right;\n",
       "    }\n",
       "</style>\n",
       "<table border=\"1\" class=\"dataframe\">\n",
       "  <thead>\n",
       "    <tr style=\"text-align: right;\">\n",
       "      <th></th>\n",
       "      <th>Total Count</th>\n",
       "      <th>Percentage of Players</th>\n",
       "    </tr>\n",
       "  </thead>\n",
       "  <tbody>\n",
       "    <tr>\n",
       "      <th>Male</th>\n",
       "      <td>484</td>\n",
       "      <td>84.03%</td>\n",
       "    </tr>\n",
       "    <tr>\n",
       "      <th>Female</th>\n",
       "      <td>81</td>\n",
       "      <td>14.06%</td>\n",
       "    </tr>\n",
       "    <tr>\n",
       "      <th>Other/Non-Disclosed</th>\n",
       "      <td>11</td>\n",
       "      <td>1.91%</td>\n",
       "    </tr>\n",
       "  </tbody>\n",
       "</table>\n",
       "</div>"
      ],
      "text/plain": [
       "                     Total Count Percentage of Players\n",
       "Male                         484                84.03%\n",
       "Female                        81                14.06%\n",
       "Other/Non-Disclosed           11                 1.91%"
      ]
     },
     "execution_count": 11,
     "metadata": {},
     "output_type": "execute_result"
    }
   ],
   "source": [
    "# Gender Demographics #\n",
    "male_df=purchase_data.loc[purchase_data[\"Gender\"]==\"Male\"]\n",
    "female_df=purchase_data.loc[purchase_data[\"Gender\"]==\"Female\"]\n",
    "others_df =purchase_data.loc[purchase_data[\"Gender\"]==\"Other / Non-Disclosed\"]\n",
    "\n",
    "malePlayers = len(male_df[\"SN\"].unique())\n",
    "femalePlayers = len(female_df[\"SN\"].unique())\n",
    "others = len(others_df[\"SN\"].unique())\n",
    "\n",
    "malePerc = \"{:.2%}\".format(malePlayers/total_players)\n",
    "femalePerc = \"{:.2%}\".format(femalePlayers/total_players)\n",
    "othersPerc = \"{:.2%}\".format(others/total_players)\n",
    "\n",
    "genderDemog_df = pd.DataFrame({\"Total Count\":[malePlayers,femalePlayers, others], \n",
    "                              \"Percentage of Players\":[malePerc, femalePerc, othersPerc]}, \n",
    "                             index=[\"Male\",\"Female\", \"Other/Non-Disclosed\"])\n",
    "genderDemog_df"
   ]
  },
  {
   "cell_type": "code",
   "execution_count": 13,
   "metadata": {},
   "outputs": [
    {
     "data": {
      "text/html": [
       "<div>\n",
       "<style scoped>\n",
       "    .dataframe tbody tr th:only-of-type {\n",
       "        vertical-align: middle;\n",
       "    }\n",
       "\n",
       "    .dataframe tbody tr th {\n",
       "        vertical-align: top;\n",
       "    }\n",
       "\n",
       "    .dataframe thead th {\n",
       "        text-align: right;\n",
       "    }\n",
       "</style>\n",
       "<table border=\"1\" class=\"dataframe\">\n",
       "  <thead>\n",
       "    <tr style=\"text-align: right;\">\n",
       "      <th></th>\n",
       "      <th>Purchase Count</th>\n",
       "      <th>Average Purchase Price</th>\n",
       "      <th>Total Purchase Value</th>\n",
       "      <th>Avg Total Purchase per Person</th>\n",
       "    </tr>\n",
       "  </thead>\n",
       "  <tbody>\n",
       "    <tr>\n",
       "      <th>Male</th>\n",
       "      <td>652</td>\n",
       "      <td>$3.02</td>\n",
       "      <td>$1,967.64</td>\n",
       "      <td>$4.07</td>\n",
       "    </tr>\n",
       "    <tr>\n",
       "      <th>Female</th>\n",
       "      <td>113</td>\n",
       "      <td>$3.20</td>\n",
       "      <td>$361.94</td>\n",
       "      <td>$4.47</td>\n",
       "    </tr>\n",
       "    <tr>\n",
       "      <th>Other/Non-Disclosed</th>\n",
       "      <td>15</td>\n",
       "      <td>$3.35</td>\n",
       "      <td>$50.19</td>\n",
       "      <td>$4.56</td>\n",
       "    </tr>\n",
       "  </tbody>\n",
       "</table>\n",
       "</div>"
      ],
      "text/plain": [
       "                     Purchase Count Average Purchase Price  \\\n",
       "Male                            652                  $3.02   \n",
       "Female                          113                  $3.20   \n",
       "Other/Non-Disclosed              15                  $3.35   \n",
       "\n",
       "                    Total Purchase Value Avg Total Purchase per Person  \n",
       "Male                           $1,967.64                         $4.07  \n",
       "Female                           $361.94                         $4.47  \n",
       "Other/Non-Disclosed               $50.19                         $4.56  "
      ]
     },
     "execution_count": 13,
     "metadata": {},
     "output_type": "execute_result"
    }
   ],
   "source": [
    "#  Purchase Count #\n",
    "purchase_data['Count'] = 1\n",
    "Purchase_Count = purchase_data.groupby([\"Gender\"]).count()['Count']\n",
    "purchaseCount_male = Purchase_Count[\"Male\"]\n",
    "purchaseCount_female = Purchase_Count[\"Female\"]\n",
    "purchaseCount_others =Purchase_Count[\"Other / Non-Disclosed\"]\n",
    "\n",
    "#  Average Purchase Price #\n",
    "avg_Purchase_price = purchase_data.groupby([\"Gender\"]).mean()['Price']\n",
    "avg_Purchase_price_male = avg_Purchase_price[\"Male\"]\n",
    "avg_Purchase_price_female = avg_Purchase_price[\"Female\"]\n",
    "avg_Purchase_price_others = avg_Purchase_price[\"Other / Non-Disclosed\"]\n",
    "\n",
    "#  Total Purchase Value #\n",
    "tot_Purchase_value = purchase_data.groupby([\"Gender\"]).sum()['Price']\n",
    "tot_Purchase_value_male = tot_Purchase_value[\"Male\"]                      \n",
    "tot_Purchase_value_female = tot_Purchase_value[\"Female\"]  \n",
    "tot_Purchase_value_others = tot_Purchase_value[\"Other / Non-Disclosed\"]\n",
    "\n",
    "#  Average Purchase Total per Person by Gender #\n",
    "avg_tot_pur_male = tot_Purchase_value_male / malePlayers\n",
    "avg_tot_pur_female = tot_Purchase_value_female / femalePlayers\n",
    "avg_tot_pur_others = tot_Purchase_value_others / others\n",
    "\n",
    "purchase_byGender_df = pd.DataFrame({\"Purchase Count\":[purchaseCount_male,purchaseCount_female, purchaseCount_others], \n",
    "                              \"Average Purchase Price\":[\"${:.2f}\".format(avg_Purchase_price_male), \n",
    "                                                        \"${:.2f}\".format(avg_Purchase_price_female), \n",
    "                                                        \"${:.2f}\".format(avg_Purchase_price_others)],\n",
    "                               \"Total Purchase Value\":[\"${:,.2f}\".format(tot_Purchase_value_male),\n",
    "                                                       \"${:,.2f}\".format(tot_Purchase_value_female),\n",
    "                                                       \"${:,.2f}\".format(tot_Purchase_value_others)],\n",
    "                                 \"Avg Total Purchase per Person\":[\"${:.2f}\".format(avg_tot_pur_male),\n",
    "                                                                  \"${:.2f}\".format(avg_tot_pur_female),\n",
    "                                                                  \"${:.2f}\".format(avg_tot_pur_others)]\n",
    "                                  }, \n",
    "                             index=[\"Male\",\"Female\", \"Other/Non-Disclosed\"])\n",
    "purchase_byGender_df"
   ]
  },
  {
   "cell_type": "code",
   "execution_count": null,
   "metadata": {},
   "outputs": [],
   "source": [
    "#Q6  Age Demographics ###############################################"
   ]
  },
  {
   "cell_type": "code",
   "execution_count": null,
   "metadata": {},
   "outputs": [],
   "source": [
    "#Establish bins for ages    Categorize the existing players using the age bins. Hint: use pd.cut()"
   ]
  },
  {
   "cell_type": "code",
   "execution_count": null,
   "metadata": {},
   "outputs": [],
   "source": [
    "#Calculate the numbers and percentages by age group"
   ]
  },
  {
   "cell_type": "code",
   "execution_count": null,
   "metadata": {},
   "outputs": [],
   "source": [
    "#Create a summary data frame to hold the results"
   ]
  },
  {
   "cell_type": "code",
   "execution_count": null,
   "metadata": {},
   "outputs": [],
   "source": [
    "#Optional: round the percentage column to two decimal points \n",
    "#Display Age Demographics Table"
   ]
  },
  {
   "cell_type": "code",
   "execution_count": null,
   "metadata": {},
   "outputs": [],
   "source": [
    "#Q7  Purchasing Analysis (Age) ######################################"
   ]
  },
  {
   "cell_type": "code",
   "execution_count": null,
   "metadata": {},
   "outputs": [],
   "source": [
    "#Q7 Bin the purchase_data data frame by age\n",
    "# Run basic calculations to obtain purchase count, avg. purchase price, avg. purchase total per person etc. in the table below\n",
    "\n",
    "\n"
   ]
  },
  {
   "cell_type": "code",
   "execution_count": null,
   "metadata": {},
   "outputs": [],
   "source": [
    "#Q8 Top Spenders #########################################################"
   ]
  },
  {
   "cell_type": "code",
   "execution_count": 46,
   "metadata": {},
   "outputs": [
    {
     "data": {
      "text/html": [
       "<style  type=\"text/css\" >\n",
       "</style><table id=\"T_fa803a64_a60b_11ea_8a14_f80f412b8562\" ><thead>    <tr>        <th class=\"blank level0\" ></th>        <th class=\"col_heading level0 col0\" >Purchase Count</th>        <th class=\"col_heading level0 col1\" >Average Purchase Price</th>        <th class=\"col_heading level0 col2\" >Total Purchase Value</th>    </tr>    <tr>        <th class=\"index_name level0\" >SN</th>        <th class=\"blank\" ></th>        <th class=\"blank\" ></th>        <th class=\"blank\" ></th>    </tr></thead><tbody>\n",
       "                <tr>\n",
       "                        <th id=\"T_fa803a64_a60b_11ea_8a14_f80f412b8562level0_row0\" class=\"row_heading level0 row0\" >Lisosia93</th>\n",
       "                        <td id=\"T_fa803a64_a60b_11ea_8a14_f80f412b8562row0_col0\" class=\"data row0 col0\" >5</td>\n",
       "                        <td id=\"T_fa803a64_a60b_11ea_8a14_f80f412b8562row0_col1\" class=\"data row0 col1\" >$3.79</td>\n",
       "                        <td id=\"T_fa803a64_a60b_11ea_8a14_f80f412b8562row0_col2\" class=\"data row0 col2\" >$18.96</td>\n",
       "            </tr>\n",
       "            <tr>\n",
       "                        <th id=\"T_fa803a64_a60b_11ea_8a14_f80f412b8562level0_row1\" class=\"row_heading level0 row1\" >Idastidru52</th>\n",
       "                        <td id=\"T_fa803a64_a60b_11ea_8a14_f80f412b8562row1_col0\" class=\"data row1 col0\" >4</td>\n",
       "                        <td id=\"T_fa803a64_a60b_11ea_8a14_f80f412b8562row1_col1\" class=\"data row1 col1\" >$3.86</td>\n",
       "                        <td id=\"T_fa803a64_a60b_11ea_8a14_f80f412b8562row1_col2\" class=\"data row1 col2\" >$15.45</td>\n",
       "            </tr>\n",
       "            <tr>\n",
       "                        <th id=\"T_fa803a64_a60b_11ea_8a14_f80f412b8562level0_row2\" class=\"row_heading level0 row2\" >Chamjask73</th>\n",
       "                        <td id=\"T_fa803a64_a60b_11ea_8a14_f80f412b8562row2_col0\" class=\"data row2 col0\" >3</td>\n",
       "                        <td id=\"T_fa803a64_a60b_11ea_8a14_f80f412b8562row2_col1\" class=\"data row2 col1\" >$4.61</td>\n",
       "                        <td id=\"T_fa803a64_a60b_11ea_8a14_f80f412b8562row2_col2\" class=\"data row2 col2\" >$13.83</td>\n",
       "            </tr>\n",
       "            <tr>\n",
       "                        <th id=\"T_fa803a64_a60b_11ea_8a14_f80f412b8562level0_row3\" class=\"row_heading level0 row3\" >Iral74</th>\n",
       "                        <td id=\"T_fa803a64_a60b_11ea_8a14_f80f412b8562row3_col0\" class=\"data row3 col0\" >4</td>\n",
       "                        <td id=\"T_fa803a64_a60b_11ea_8a14_f80f412b8562row3_col1\" class=\"data row3 col1\" >$3.40</td>\n",
       "                        <td id=\"T_fa803a64_a60b_11ea_8a14_f80f412b8562row3_col2\" class=\"data row3 col2\" >$13.62</td>\n",
       "            </tr>\n",
       "            <tr>\n",
       "                        <th id=\"T_fa803a64_a60b_11ea_8a14_f80f412b8562level0_row4\" class=\"row_heading level0 row4\" >Iskadarya95</th>\n",
       "                        <td id=\"T_fa803a64_a60b_11ea_8a14_f80f412b8562row4_col0\" class=\"data row4 col0\" >3</td>\n",
       "                        <td id=\"T_fa803a64_a60b_11ea_8a14_f80f412b8562row4_col1\" class=\"data row4 col1\" >$4.37</td>\n",
       "                        <td id=\"T_fa803a64_a60b_11ea_8a14_f80f412b8562row4_col2\" class=\"data row4 col2\" >$13.10</td>\n",
       "            </tr>\n",
       "    </tbody></table>"
      ],
      "text/plain": [
       "<pandas.io.formats.style.Styler at 0x1a95d873488>"
      ]
     },
     "execution_count": 46,
     "metadata": {},
     "output_type": "execute_result"
    }
   ],
   "source": [
    "#groupby SN\n",
    "grpBy_SN = purchase_data.groupby(['SN'])\n",
    "grpBy_SN_pCount = grpBy_SN['Count'].count()\n",
    "grpBy_SN_aPrice = grpBy_SN['Price'].mean()\n",
    "grpBy_SN_tPurchase = grpBy_SN['Price'].sum()\n",
    "\n",
    "#make dataframe\n",
    "topSpenders_df = pd.DataFrame({\"Purchase Count\":grpBy_SN_pCount,\n",
    "                            \"Average Purchase Price\":grpBy_SN_aPrice,\n",
    "                            \"Total Purchase Value\":grpBy_SN_tPurchase} \n",
    "                           )\n",
    "\n",
    "#sort by total purchase value decending\n",
    "topSpenders_sorted_df=topSpenders_df.sort_values('Total Purchase Value', ascending =False)\n",
    "\n",
    "#format\n",
    "topSpenders_sorted_formatted=topSpenders_sorted_df.head(5).style.format({\"Average Purchase Price\":\"${:,.2f}\",\n",
    "                                    \"Total Purchase Value\":\"${:,.2f}\"})\n",
    "topSpenders_sorted_formatted\n"
   ]
  },
  {
   "cell_type": "code",
   "execution_count": null,
   "metadata": {},
   "outputs": [],
   "source": [
    "#Q9 Most Popular Items #########################################################"
   ]
  },
  {
   "cell_type": "code",
   "execution_count": 69,
   "metadata": {
    "scrolled": true
   },
   "outputs": [
    {
     "data": {
      "text/html": [
       "<style  type=\"text/css\" >\n",
       "</style><table id=\"T_8545bfae_a614_11ea_9d3e_f80f412b8562\" ><thead>    <tr>        <th class=\"blank\" ></th>        <th class=\"blank level0\" ></th>        <th class=\"col_heading level0 col0\" >Purchase Count</th>        <th class=\"col_heading level0 col1\" >Item Price</th>        <th class=\"col_heading level0 col2\" >Total Purchase Value</th>    </tr>    <tr>        <th class=\"index_name level0\" >Item ID</th>        <th class=\"index_name level1\" >Item Name</th>        <th class=\"blank\" ></th>        <th class=\"blank\" ></th>        <th class=\"blank\" ></th>    </tr></thead><tbody>\n",
       "                <tr>\n",
       "                        <th id=\"T_8545bfae_a614_11ea_9d3e_f80f412b8562level0_row0\" class=\"row_heading level0 row0\" >92</th>\n",
       "                        <th id=\"T_8545bfae_a614_11ea_9d3e_f80f412b8562level1_row0\" class=\"row_heading level1 row0\" >Final Critic</th>\n",
       "                        <td id=\"T_8545bfae_a614_11ea_9d3e_f80f412b8562row0_col0\" class=\"data row0 col0\" >13</td>\n",
       "                        <td id=\"T_8545bfae_a614_11ea_9d3e_f80f412b8562row0_col1\" class=\"data row0 col1\" >$4.61</td>\n",
       "                        <td id=\"T_8545bfae_a614_11ea_9d3e_f80f412b8562row0_col2\" class=\"data row0 col2\" >$59.99</td>\n",
       "            </tr>\n",
       "            <tr>\n",
       "                        <th id=\"T_8545bfae_a614_11ea_9d3e_f80f412b8562level0_row1\" class=\"row_heading level0 row1\" >178</th>\n",
       "                        <th id=\"T_8545bfae_a614_11ea_9d3e_f80f412b8562level1_row1\" class=\"row_heading level1 row1\" >Oathbreaker, Last Hope of the Breaking Storm</th>\n",
       "                        <td id=\"T_8545bfae_a614_11ea_9d3e_f80f412b8562row1_col0\" class=\"data row1 col0\" >12</td>\n",
       "                        <td id=\"T_8545bfae_a614_11ea_9d3e_f80f412b8562row1_col1\" class=\"data row1 col1\" >$4.23</td>\n",
       "                        <td id=\"T_8545bfae_a614_11ea_9d3e_f80f412b8562row1_col2\" class=\"data row1 col2\" >$50.76</td>\n",
       "            </tr>\n",
       "            <tr>\n",
       "                        <th id=\"T_8545bfae_a614_11ea_9d3e_f80f412b8562level0_row2\" class=\"row_heading level0 row2\" >145</th>\n",
       "                        <th id=\"T_8545bfae_a614_11ea_9d3e_f80f412b8562level1_row2\" class=\"row_heading level1 row2\" >Fiery Glass Crusader</th>\n",
       "                        <td id=\"T_8545bfae_a614_11ea_9d3e_f80f412b8562row2_col0\" class=\"data row2 col0\" >9</td>\n",
       "                        <td id=\"T_8545bfae_a614_11ea_9d3e_f80f412b8562row2_col1\" class=\"data row2 col1\" >$4.58</td>\n",
       "                        <td id=\"T_8545bfae_a614_11ea_9d3e_f80f412b8562row2_col2\" class=\"data row2 col2\" >$41.22</td>\n",
       "            </tr>\n",
       "            <tr>\n",
       "                        <th id=\"T_8545bfae_a614_11ea_9d3e_f80f412b8562level0_row3\" class=\"row_heading level0 row3\" >132</th>\n",
       "                        <th id=\"T_8545bfae_a614_11ea_9d3e_f80f412b8562level1_row3\" class=\"row_heading level1 row3\" >Persuasion</th>\n",
       "                        <td id=\"T_8545bfae_a614_11ea_9d3e_f80f412b8562row3_col0\" class=\"data row3 col0\" >9</td>\n",
       "                        <td id=\"T_8545bfae_a614_11ea_9d3e_f80f412b8562row3_col1\" class=\"data row3 col1\" >$3.22</td>\n",
       "                        <td id=\"T_8545bfae_a614_11ea_9d3e_f80f412b8562row3_col2\" class=\"data row3 col2\" >$28.99</td>\n",
       "            </tr>\n",
       "            <tr>\n",
       "                        <th id=\"T_8545bfae_a614_11ea_9d3e_f80f412b8562level0_row4\" class=\"row_heading level0 row4\" >108</th>\n",
       "                        <th id=\"T_8545bfae_a614_11ea_9d3e_f80f412b8562level1_row4\" class=\"row_heading level1 row4\" >Extraction, Quickblade Of Trembling Hands</th>\n",
       "                        <td id=\"T_8545bfae_a614_11ea_9d3e_f80f412b8562row4_col0\" class=\"data row4 col0\" >9</td>\n",
       "                        <td id=\"T_8545bfae_a614_11ea_9d3e_f80f412b8562row4_col1\" class=\"data row4 col1\" >$3.53</td>\n",
       "                        <td id=\"T_8545bfae_a614_11ea_9d3e_f80f412b8562row4_col2\" class=\"data row4 col2\" >$31.77</td>\n",
       "            </tr>\n",
       "    </tbody></table>"
      ],
      "text/plain": [
       "<pandas.io.formats.style.Styler at 0x1a95da37808>"
      ]
     },
     "execution_count": 69,
     "metadata": {},
     "output_type": "execute_result"
    }
   ],
   "source": [
    "#Group by Item ID and Item Name.\n",
    "grpBy_Item = purchase_data.groupby([\"Item ID\", \"Item Name\"])\n",
    "\n",
    "#Perform calculations to obtain purchase count, item price, and total purchase value\n",
    "purCount = grpBy_Item['Count'].count()\n",
    "priceCount = grpBy_Item['Price'].count()\n",
    "tot_pur_value = grpBy_Item['Price'].sum()\n",
    "itemPrice = tot_pur_value/priceCount\n",
    "\n",
    "#Create a summary data frame to hold the results\n",
    "mostPopItems_df = pd.DataFrame({\"Purchase Count\":purCount ,\n",
    "                               \"Item Price\":itemPrice ,\n",
    "                               \"Total Purchase Value\":tot_pur_value})\n",
    "\n",
    "#Sort the purchase count column in descending order\n",
    "mostPopItems_sorted_df = mostPopItems_df.sort_values(\"Purchase Count\", ascending =False)\n",
    "#format and preview\n",
    "mostPopItems_sorted_formatted = mostPopItems_sorted_df.head(5).style.format(\n",
    "    {\"Item Price\":\"${:,.2f}\",\"Total Purchase Value\":\"${:,.2f}\"})\n",
    "mostPopItems_sorted_formatted\n"
   ]
  },
  {
   "cell_type": "code",
   "execution_count": null,
   "metadata": {},
   "outputs": [],
   "source": [
    "#10 Most Profitable Items ####################################3"
   ]
  },
  {
   "cell_type": "code",
   "execution_count": 72,
   "metadata": {},
   "outputs": [
    {
     "data": {
      "text/html": [
       "<style  type=\"text/css\" >\n",
       "</style><table id=\"T_b7f1533e_a614_11ea_a431_f80f412b8562\" ><thead>    <tr>        <th class=\"blank\" ></th>        <th class=\"blank level0\" ></th>        <th class=\"col_heading level0 col0\" >Purchase Count</th>        <th class=\"col_heading level0 col1\" >Item Price</th>        <th class=\"col_heading level0 col2\" >Total Purchase Value</th>    </tr>    <tr>        <th class=\"index_name level0\" >Item ID</th>        <th class=\"index_name level1\" >Item Name</th>        <th class=\"blank\" ></th>        <th class=\"blank\" ></th>        <th class=\"blank\" ></th>    </tr></thead><tbody>\n",
       "                <tr>\n",
       "                        <th id=\"T_b7f1533e_a614_11ea_a431_f80f412b8562level0_row0\" class=\"row_heading level0 row0\" >92</th>\n",
       "                        <th id=\"T_b7f1533e_a614_11ea_a431_f80f412b8562level1_row0\" class=\"row_heading level1 row0\" >Final Critic</th>\n",
       "                        <td id=\"T_b7f1533e_a614_11ea_a431_f80f412b8562row0_col0\" class=\"data row0 col0\" >13</td>\n",
       "                        <td id=\"T_b7f1533e_a614_11ea_a431_f80f412b8562row0_col1\" class=\"data row0 col1\" >$4.61</td>\n",
       "                        <td id=\"T_b7f1533e_a614_11ea_a431_f80f412b8562row0_col2\" class=\"data row0 col2\" >$59.99</td>\n",
       "            </tr>\n",
       "            <tr>\n",
       "                        <th id=\"T_b7f1533e_a614_11ea_a431_f80f412b8562level0_row1\" class=\"row_heading level0 row1\" >178</th>\n",
       "                        <th id=\"T_b7f1533e_a614_11ea_a431_f80f412b8562level1_row1\" class=\"row_heading level1 row1\" >Oathbreaker, Last Hope of the Breaking Storm</th>\n",
       "                        <td id=\"T_b7f1533e_a614_11ea_a431_f80f412b8562row1_col0\" class=\"data row1 col0\" >12</td>\n",
       "                        <td id=\"T_b7f1533e_a614_11ea_a431_f80f412b8562row1_col1\" class=\"data row1 col1\" >$4.23</td>\n",
       "                        <td id=\"T_b7f1533e_a614_11ea_a431_f80f412b8562row1_col2\" class=\"data row1 col2\" >$50.76</td>\n",
       "            </tr>\n",
       "            <tr>\n",
       "                        <th id=\"T_b7f1533e_a614_11ea_a431_f80f412b8562level0_row2\" class=\"row_heading level0 row2\" >82</th>\n",
       "                        <th id=\"T_b7f1533e_a614_11ea_a431_f80f412b8562level1_row2\" class=\"row_heading level1 row2\" >Nirvana</th>\n",
       "                        <td id=\"T_b7f1533e_a614_11ea_a431_f80f412b8562row2_col0\" class=\"data row2 col0\" >9</td>\n",
       "                        <td id=\"T_b7f1533e_a614_11ea_a431_f80f412b8562row2_col1\" class=\"data row2 col1\" >$4.90</td>\n",
       "                        <td id=\"T_b7f1533e_a614_11ea_a431_f80f412b8562row2_col2\" class=\"data row2 col2\" >$44.10</td>\n",
       "            </tr>\n",
       "            <tr>\n",
       "                        <th id=\"T_b7f1533e_a614_11ea_a431_f80f412b8562level0_row3\" class=\"row_heading level0 row3\" >145</th>\n",
       "                        <th id=\"T_b7f1533e_a614_11ea_a431_f80f412b8562level1_row3\" class=\"row_heading level1 row3\" >Fiery Glass Crusader</th>\n",
       "                        <td id=\"T_b7f1533e_a614_11ea_a431_f80f412b8562row3_col0\" class=\"data row3 col0\" >9</td>\n",
       "                        <td id=\"T_b7f1533e_a614_11ea_a431_f80f412b8562row3_col1\" class=\"data row3 col1\" >$4.58</td>\n",
       "                        <td id=\"T_b7f1533e_a614_11ea_a431_f80f412b8562row3_col2\" class=\"data row3 col2\" >$41.22</td>\n",
       "            </tr>\n",
       "            <tr>\n",
       "                        <th id=\"T_b7f1533e_a614_11ea_a431_f80f412b8562level0_row4\" class=\"row_heading level0 row4\" >103</th>\n",
       "                        <th id=\"T_b7f1533e_a614_11ea_a431_f80f412b8562level1_row4\" class=\"row_heading level1 row4\" >Singed Scalpel</th>\n",
       "                        <td id=\"T_b7f1533e_a614_11ea_a431_f80f412b8562row4_col0\" class=\"data row4 col0\" >8</td>\n",
       "                        <td id=\"T_b7f1533e_a614_11ea_a431_f80f412b8562row4_col1\" class=\"data row4 col1\" >$4.35</td>\n",
       "                        <td id=\"T_b7f1533e_a614_11ea_a431_f80f412b8562row4_col2\" class=\"data row4 col2\" >$34.80</td>\n",
       "            </tr>\n",
       "    </tbody></table>"
      ],
      "text/plain": [
       "<pandas.io.formats.style.Styler at 0x1a95d930fc8>"
      ]
     },
     "execution_count": 72,
     "metadata": {},
     "output_type": "execute_result"
    }
   ],
   "source": [
    "#Sort the above table by total purchase value in descending order\n",
    "mostProfitItems_sorted_df = mostPopItems_df.sort_values(\"Total Purchase Value\", ascending =False)\n",
    "\n",
    "#preview\n",
    "mostProfitItems_sorted_formatted = mostProfitItems_sorted_df.head(5).style.format(\n",
    "    {\"Item Price\":\"${:,.2f}\",\"Total Purchase Value\":\"${:,.2f}\"})\n",
    "mostProfitItems_sorted_formatted\n"
   ]
  },
  {
   "cell_type": "code",
   "execution_count": null,
   "metadata": {},
   "outputs": [],
   "source": []
  }
 ],
 "metadata": {
  "kernelspec": {
   "display_name": "Python 3",
   "language": "python",
   "name": "python3"
  },
  "language_info": {
   "codemirror_mode": {
    "name": "ipython",
    "version": 3
   },
   "file_extension": ".py",
   "mimetype": "text/x-python",
   "name": "python",
   "nbconvert_exporter": "python",
   "pygments_lexer": "ipython3",
   "version": "3.7.6"
  }
 },
 "nbformat": 4,
 "nbformat_minor": 4
}
