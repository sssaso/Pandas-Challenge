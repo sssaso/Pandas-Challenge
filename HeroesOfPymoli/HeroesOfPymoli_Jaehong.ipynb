{
 "cells": [
  {
   "cell_type": "code",
   "execution_count": 1,
   "metadata": {},
   "outputs": [],
   "source": [
    "import pandas as pd"
   ]
  },
  {
   "cell_type": "code",
   "execution_count": 2,
   "metadata": {},
   "outputs": [],
   "source": [
    "# load file and read & store into pandas df\n",
    "file_to_load = \"Resources/purchase_data.csv\"\n",
    "purchase_data = pd.read_csv(file_to_load)"
   ]
  },
  {
   "cell_type": "markdown",
   "metadata": {},
   "source": [
    "1.Player Count"
   ]
  },
  {
   "cell_type": "code",
   "execution_count": 7,
   "metadata": {},
   "outputs": [
    {
     "data": {
      "text/html": [
       "<div>\n",
       "<style scoped>\n",
       "    .dataframe tbody tr th:only-of-type {\n",
       "        vertical-align: middle;\n",
       "    }\n",
       "\n",
       "    .dataframe tbody tr th {\n",
       "        vertical-align: top;\n",
       "    }\n",
       "\n",
       "    .dataframe thead th {\n",
       "        text-align: right;\n",
       "    }\n",
       "</style>\n",
       "<table border=\"1\" class=\"dataframe\">\n",
       "  <thead>\n",
       "    <tr style=\"text-align: right;\">\n",
       "      <th></th>\n",
       "      <th>Total Players</th>\n",
       "    </tr>\n",
       "  </thead>\n",
       "  <tbody>\n",
       "    <tr>\n",
       "      <th>0</th>\n",
       "      <td>576</td>\n",
       "    </tr>\n",
       "  </tbody>\n",
       "</table>\n",
       "</div>"
      ],
      "text/plain": [
       "   Total Players\n",
       "0            576"
      ]
     },
     "execution_count": 7,
     "metadata": {},
     "output_type": "execute_result"
    }
   ],
   "source": [
    "total_players = purchase_data[\"SN\"].nunique()  # number of unique value in \"SN\" column \n",
    "totalPlayers_df = pd.DataFrame({\"Total Players\":[total_players]}) # make df table \n",
    "totalPlayers_df"
   ]
  },
  {
   "cell_type": "markdown",
   "metadata": {},
   "source": [
    "2.  Purchasing Analysis (Total)"
   ]
  },
  {
   "cell_type": "code",
   "execution_count": 8,
   "metadata": {},
   "outputs": [
    {
     "data": {
      "text/html": [
       "<div>\n",
       "<style scoped>\n",
       "    .dataframe tbody tr th:only-of-type {\n",
       "        vertical-align: middle;\n",
       "    }\n",
       "\n",
       "    .dataframe tbody tr th {\n",
       "        vertical-align: top;\n",
       "    }\n",
       "\n",
       "    .dataframe thead th {\n",
       "        text-align: right;\n",
       "    }\n",
       "</style>\n",
       "<table border=\"1\" class=\"dataframe\">\n",
       "  <thead>\n",
       "    <tr style=\"text-align: right;\">\n",
       "      <th></th>\n",
       "      <th>Number of Unique Items</th>\n",
       "      <th>Average Price</th>\n",
       "      <th>Number of Purchases</th>\n",
       "      <th>Total Revenue</th>\n",
       "    </tr>\n",
       "  </thead>\n",
       "  <tbody>\n",
       "    <tr>\n",
       "      <th>0</th>\n",
       "      <td>179</td>\n",
       "      <td>$3.05</td>\n",
       "      <td>780</td>\n",
       "      <td>$2,379.77</td>\n",
       "    </tr>\n",
       "  </tbody>\n",
       "</table>\n",
       "</div>"
      ],
      "text/plain": [
       "   Number of Unique Items Average Price  Number of Purchases Total Revenue\n",
       "0                     179         $3.05                  780     $2,379.77"
      ]
     },
     "execution_count": 8,
     "metadata": {},
     "output_type": "execute_result"
    }
   ],
   "source": [
    "UniqItems = len(purchase_data[\"Item Name\"].unique())  # length of unique item series \n",
    "AvgPurPrice = purchase_data[\"Price\"].mean()  # default axis = 0, meaning row, vertically\n",
    "Num_Purchase = purchase_data[\"Purchase ID\"].count()  # default axis = 0\n",
    "totalRev = purchase_data[\"Price\"].sum()  # default axis = 0\n",
    "\n",
    "# make summary data table\n",
    "Purchasing_Analysis_df =pd.DataFrame({\"Number of Unique Items\":UniqItems,\n",
    "                                    \"Average Price\":\"${:,.2f}\".format(AvgPurPrice),\n",
    "                                    \"Number of Purchases\": [Num_Purchase],\n",
    "                                    \"Total Revenue\":\"${:,.2f}\".format(totalRev)})\n",
    "Purchasing_Analysis_df"
   ]
  },
  {
   "cell_type": "markdown",
   "metadata": {},
   "source": [
    "3. Gender Demographics"
   ]
  },
  {
   "cell_type": "code",
   "execution_count": 9,
   "metadata": {},
   "outputs": [
    {
     "data": {
      "text/html": [
       "<div>\n",
       "<style scoped>\n",
       "    .dataframe tbody tr th:only-of-type {\n",
       "        vertical-align: middle;\n",
       "    }\n",
       "\n",
       "    .dataframe tbody tr th {\n",
       "        vertical-align: top;\n",
       "    }\n",
       "\n",
       "    .dataframe thead th {\n",
       "        text-align: right;\n",
       "    }\n",
       "</style>\n",
       "<table border=\"1\" class=\"dataframe\">\n",
       "  <thead>\n",
       "    <tr style=\"text-align: right;\">\n",
       "      <th></th>\n",
       "      <th>Total Count</th>\n",
       "      <th>Percentage of Players</th>\n",
       "    </tr>\n",
       "  </thead>\n",
       "  <tbody>\n",
       "    <tr>\n",
       "      <th>Male</th>\n",
       "      <td>484</td>\n",
       "      <td>84.03%</td>\n",
       "    </tr>\n",
       "    <tr>\n",
       "      <th>Female</th>\n",
       "      <td>81</td>\n",
       "      <td>14.06%</td>\n",
       "    </tr>\n",
       "    <tr>\n",
       "      <th>Other/Non-Disclosed</th>\n",
       "      <td>11</td>\n",
       "      <td>1.91%</td>\n",
       "    </tr>\n",
       "  </tbody>\n",
       "</table>\n",
       "</div>"
      ],
      "text/plain": [
       "                     Total Count Percentage of Players\n",
       "Male                         484                84.03%\n",
       "Female                        81                14.06%\n",
       "Other/Non-Disclosed           11                 1.91%"
      ]
     },
     "execution_count": 9,
     "metadata": {},
     "output_type": "execute_result"
    }
   ],
   "source": [
    " #  filtered df if the condition met  \n",
    "male_df=purchase_data.loc[purchase_data[\"Gender\"]==\"Male\"]\n",
    "female_df=purchase_data.loc[purchase_data[\"Gender\"]==\"Female\"]\n",
    "others_df =purchase_data.loc[purchase_data[\"Gender\"]==\"Other / Non-Disclosed\"]\n",
    "\n",
    "# number of unique player by gender group\n",
    "malePlayers = male_df[\"SN\"].nunique()\n",
    "femalePlayers = female_df[\"SN\"].nunique()\n",
    "others = others_df[\"SN\"].nunique()\n",
    "\n",
    "# calculating gender percentage \n",
    "malePerc = \"{:.2%}\".format(malePlayers/total_players)\n",
    "femalePerc = \"{:.2%}\".format(femalePlayers/total_players)\n",
    "othersPerc = \"{:.2%}\".format(others/total_players)\n",
    "\n",
    "# summary df table\n",
    "genderDemog_df = pd.DataFrame({\"Total Count\":[malePlayers,femalePlayers, others], \n",
    "                              \"Percentage of Players\":[malePerc, femalePerc, othersPerc]}, \n",
    "                             index=[\"Male\",\"Female\", \"Other/Non-Disclosed\"])\n",
    "genderDemog_df"
   ]
  },
  {
   "cell_type": "markdown",
   "metadata": {},
   "source": [
    "4. Purchasing Analysis by Gender"
   ]
  },
  {
   "cell_type": "code",
   "execution_count": 10,
   "metadata": {},
   "outputs": [
    {
     "data": {
      "text/html": [
       "<div>\n",
       "<style scoped>\n",
       "    .dataframe tbody tr th:only-of-type {\n",
       "        vertical-align: middle;\n",
       "    }\n",
       "\n",
       "    .dataframe tbody tr th {\n",
       "        vertical-align: top;\n",
       "    }\n",
       "\n",
       "    .dataframe thead th {\n",
       "        text-align: right;\n",
       "    }\n",
       "</style>\n",
       "<table border=\"1\" class=\"dataframe\">\n",
       "  <thead>\n",
       "    <tr style=\"text-align: right;\">\n",
       "      <th></th>\n",
       "      <th>Purchase Count</th>\n",
       "      <th>Average Purchase Price</th>\n",
       "      <th>Total Purchase Value</th>\n",
       "      <th>Avg Total Purchase per Person</th>\n",
       "    </tr>\n",
       "  </thead>\n",
       "  <tbody>\n",
       "    <tr>\n",
       "      <th>Male</th>\n",
       "      <td>652</td>\n",
       "      <td>$3.02</td>\n",
       "      <td>$1,967.64</td>\n",
       "      <td>$4.07</td>\n",
       "    </tr>\n",
       "    <tr>\n",
       "      <th>Female</th>\n",
       "      <td>113</td>\n",
       "      <td>$3.20</td>\n",
       "      <td>$361.94</td>\n",
       "      <td>$4.47</td>\n",
       "    </tr>\n",
       "    <tr>\n",
       "      <th>Other/Non-Disclosed</th>\n",
       "      <td>15</td>\n",
       "      <td>$3.35</td>\n",
       "      <td>$50.19</td>\n",
       "      <td>$4.56</td>\n",
       "    </tr>\n",
       "  </tbody>\n",
       "</table>\n",
       "</div>"
      ],
      "text/plain": [
       "                     Purchase Count Average Purchase Price  \\\n",
       "Male                            652                  $3.02   \n",
       "Female                          113                  $3.20   \n",
       "Other/Non-Disclosed              15                  $3.35   \n",
       "\n",
       "                    Total Purchase Value Avg Total Purchase per Person  \n",
       "Male                           $1,967.64                         $4.07  \n",
       "Female                           $361.94                         $4.47  \n",
       "Other/Non-Disclosed               $50.19                         $4.56  "
      ]
     },
     "execution_count": 10,
     "metadata": {},
     "output_type": "execute_result"
    }
   ],
   "source": [
    "#  Purchase Count #\n",
    "\n",
    "# add a column in the df to count accurately\n",
    "purchase_data['Count'] = 1\n",
    "\n",
    "# purchase count groupby \"Gender\" \n",
    "Purchase_Count = purchase_data.groupby([\"Gender\"]).count()['Count']\n",
    "purchaseCount_male = Purchase_Count[\"Male\"]\n",
    "purchaseCount_female = Purchase_Count[\"Female\"]\n",
    "purchaseCount_others =Purchase_Count[\"Other / Non-Disclosed\"]\n",
    "\n",
    "# calculating average Purchase Price: groupby gender first and calculate mean of \"Price\" column\n",
    "avg_Purchase_price = purchase_data.groupby([\"Gender\"]).mean()['Price']\n",
    "avg_Purchase_price_male = avg_Purchase_price[\"Male\"]\n",
    "avg_Purchase_price_female = avg_Purchase_price[\"Female\"]\n",
    "avg_Purchase_price_others = avg_Purchase_price[\"Other / Non-Disclosed\"]\n",
    "\n",
    "#  calculating Total Purchase Value by grouping by \"Gender\" for the sum of \"Price\" column\n",
    "tot_Purchase_value = purchase_data.groupby([\"Gender\"]).sum()['Price']\n",
    "tot_Purchase_value_male = tot_Purchase_value[\"Male\"]                      \n",
    "tot_Purchase_value_female = tot_Purchase_value[\"Female\"]  \n",
    "tot_Purchase_value_others = tot_Purchase_value[\"Other / Non-Disclosed\"]\n",
    "\n",
    "#  Average Purchase Total per Person by Gender : total purchase value divided by numbe player by gender\n",
    "avg_tot_pur_male = tot_Purchase_value_male / malePlayers\n",
    "avg_tot_pur_female = tot_Purchase_value_female / femalePlayers\n",
    "avg_tot_pur_others = tot_Purchase_value_others / others\n",
    "\n",
    "purchase_byGender_df = pd.DataFrame({\"Purchase Count\":[purchaseCount_male,purchaseCount_female, purchaseCount_others], \n",
    "                              \"Average Purchase Price\":[\"${:.2f}\".format(avg_Purchase_price_male), \n",
    "                                                        \"${:.2f}\".format(avg_Purchase_price_female), \n",
    "                                                        \"${:.2f}\".format(avg_Purchase_price_others)],\n",
    "                               \"Total Purchase Value\":[\"${:,.2f}\".format(tot_Purchase_value_male),\n",
    "                                                       \"${:,.2f}\".format(tot_Purchase_value_female),\n",
    "                                                       \"${:,.2f}\".format(tot_Purchase_value_others)],\n",
    "                                 \"Avg Total Purchase per Person\":[\"${:.2f}\".format(avg_tot_pur_male),\n",
    "                                                                  \"${:.2f}\".format(avg_tot_pur_female),\n",
    "                                                                  \"${:.2f}\".format(avg_tot_pur_others)]\n",
    "                                  }, \n",
    "                             index=[\"Male\",\"Female\", \"Other/Non-Disclosed\"])\n",
    "purchase_byGender_df"
   ]
  },
  {
   "cell_type": "markdown",
   "metadata": {},
   "source": [
    "5. Age Demographics"
   ]
  },
  {
   "cell_type": "code",
   "execution_count": 12,
   "metadata": {},
   "outputs": [
    {
     "data": {
      "text/html": [
       "<style  type=\"text/css\" >\n",
       "</style><table id=\"T_2f69571c_a8ef_11ea_9637_f80f412b8562\" ><thead>    <tr>        <th class=\"blank level0\" ></th>        <th class=\"col_heading level0 col0\" >Total Count</th>        <th class=\"col_heading level0 col1\" >Percentage of Players</th>    </tr>    <tr>        <th class=\"index_name level0\" >Age group</th>        <th class=\"blank\" ></th>        <th class=\"blank\" ></th>    </tr></thead><tbody>\n",
       "                <tr>\n",
       "                        <th id=\"T_2f69571c_a8ef_11ea_9637_f80f412b8562level0_row0\" class=\"row_heading level0 row0\" ><10</th>\n",
       "                        <td id=\"T_2f69571c_a8ef_11ea_9637_f80f412b8562row0_col0\" class=\"data row0 col0\" >17</td>\n",
       "                        <td id=\"T_2f69571c_a8ef_11ea_9637_f80f412b8562row0_col1\" class=\"data row0 col1\" >2.95%</td>\n",
       "            </tr>\n",
       "            <tr>\n",
       "                        <th id=\"T_2f69571c_a8ef_11ea_9637_f80f412b8562level0_row1\" class=\"row_heading level0 row1\" >10~14</th>\n",
       "                        <td id=\"T_2f69571c_a8ef_11ea_9637_f80f412b8562row1_col0\" class=\"data row1 col0\" >22</td>\n",
       "                        <td id=\"T_2f69571c_a8ef_11ea_9637_f80f412b8562row1_col1\" class=\"data row1 col1\" >3.82%</td>\n",
       "            </tr>\n",
       "            <tr>\n",
       "                        <th id=\"T_2f69571c_a8ef_11ea_9637_f80f412b8562level0_row2\" class=\"row_heading level0 row2\" >15~19</th>\n",
       "                        <td id=\"T_2f69571c_a8ef_11ea_9637_f80f412b8562row2_col0\" class=\"data row2 col0\" >107</td>\n",
       "                        <td id=\"T_2f69571c_a8ef_11ea_9637_f80f412b8562row2_col1\" class=\"data row2 col1\" >18.58%</td>\n",
       "            </tr>\n",
       "            <tr>\n",
       "                        <th id=\"T_2f69571c_a8ef_11ea_9637_f80f412b8562level0_row3\" class=\"row_heading level0 row3\" >20~24</th>\n",
       "                        <td id=\"T_2f69571c_a8ef_11ea_9637_f80f412b8562row3_col0\" class=\"data row3 col0\" >258</td>\n",
       "                        <td id=\"T_2f69571c_a8ef_11ea_9637_f80f412b8562row3_col1\" class=\"data row3 col1\" >44.79%</td>\n",
       "            </tr>\n",
       "            <tr>\n",
       "                        <th id=\"T_2f69571c_a8ef_11ea_9637_f80f412b8562level0_row4\" class=\"row_heading level0 row4\" >25~29</th>\n",
       "                        <td id=\"T_2f69571c_a8ef_11ea_9637_f80f412b8562row4_col0\" class=\"data row4 col0\" >77</td>\n",
       "                        <td id=\"T_2f69571c_a8ef_11ea_9637_f80f412b8562row4_col1\" class=\"data row4 col1\" >13.37%</td>\n",
       "            </tr>\n",
       "            <tr>\n",
       "                        <th id=\"T_2f69571c_a8ef_11ea_9637_f80f412b8562level0_row5\" class=\"row_heading level0 row5\" >30~34</th>\n",
       "                        <td id=\"T_2f69571c_a8ef_11ea_9637_f80f412b8562row5_col0\" class=\"data row5 col0\" >52</td>\n",
       "                        <td id=\"T_2f69571c_a8ef_11ea_9637_f80f412b8562row5_col1\" class=\"data row5 col1\" >9.03%</td>\n",
       "            </tr>\n",
       "            <tr>\n",
       "                        <th id=\"T_2f69571c_a8ef_11ea_9637_f80f412b8562level0_row6\" class=\"row_heading level0 row6\" >35~39</th>\n",
       "                        <td id=\"T_2f69571c_a8ef_11ea_9637_f80f412b8562row6_col0\" class=\"data row6 col0\" >31</td>\n",
       "                        <td id=\"T_2f69571c_a8ef_11ea_9637_f80f412b8562row6_col1\" class=\"data row6 col1\" >5.38%</td>\n",
       "            </tr>\n",
       "            <tr>\n",
       "                        <th id=\"T_2f69571c_a8ef_11ea_9637_f80f412b8562level0_row7\" class=\"row_heading level0 row7\" >40+</th>\n",
       "                        <td id=\"T_2f69571c_a8ef_11ea_9637_f80f412b8562row7_col0\" class=\"data row7 col0\" >12</td>\n",
       "                        <td id=\"T_2f69571c_a8ef_11ea_9637_f80f412b8562row7_col1\" class=\"data row7 col1\" >2.08%</td>\n",
       "            </tr>\n",
       "    </tbody></table>"
      ],
      "text/plain": [
       "<pandas.io.formats.style.Styler at 0x16819f57188>"
      ]
     },
     "execution_count": 12,
     "metadata": {},
     "output_type": "execute_result"
    }
   ],
   "source": [
    "#Establish bins for ages   \n",
    "bins = [0,9,14,19,24,29,34,39,60]\n",
    "#bin naming\n",
    "names = [\"<10\", \"10~14\",\"15~19\",\"20~24\", \"25~29\", \"30~34\", \"35~39\", \"40+\"]\n",
    "\n",
    "# adding new column \"Age group\" with the bin created\n",
    "purchase_data[\"Age group\"]=pd.cut(purchase_data[\"Age\"],bins, labels=names, include_lowest = True)\n",
    "\n",
    "# groupby \"Age group\" created just above\n",
    "grpBy_ageGroup = purchase_data.groupby(\"Age group\")\n",
    "# player count by Age group and percentge calculation divided by total number of players\n",
    "playerCount=grpBy_ageGroup[\"SN\"].nunique()\n",
    "perc_of_player = playerCount/total_players\n",
    "\n",
    "#Create a summary data frame to hold the results\n",
    "summary_df=pd.DataFrame({\"Total Count\":playerCount,\n",
    "                         \"Percentage of Players\":perc_of_player})\n",
    "\n",
    "#Optional: round the percentage column to two decimal points \n",
    "summary_df.head(8).style.format({\"Percentage of Players\":\"{:.2%}\"})"
   ]
  },
  {
   "cell_type": "markdown",
   "metadata": {},
   "source": [
    "6. Purchasing Analysis by Age group"
   ]
  },
  {
   "cell_type": "code",
   "execution_count": 13,
   "metadata": {},
   "outputs": [
    {
     "data": {
      "text/html": [
       "<style  type=\"text/css\" >\n",
       "</style><table id=\"T_7cbc60dc_a8ef_11ea_a6ce_f80f412b8562\" ><thead>    <tr>        <th class=\"blank level0\" ></th>        <th class=\"col_heading level0 col0\" >Purchase Count</th>        <th class=\"col_heading level0 col1\" >Average Purchase Price</th>        <th class=\"col_heading level0 col2\" >Total Purchase Value</th>        <th class=\"col_heading level0 col3\" >Avg Total Purchase per Person</th>    </tr>    <tr>        <th class=\"index_name level0\" >Age group</th>        <th class=\"blank\" ></th>        <th class=\"blank\" ></th>        <th class=\"blank\" ></th>        <th class=\"blank\" ></th>    </tr></thead><tbody>\n",
       "                <tr>\n",
       "                        <th id=\"T_7cbc60dc_a8ef_11ea_a6ce_f80f412b8562level0_row0\" class=\"row_heading level0 row0\" ><10</th>\n",
       "                        <td id=\"T_7cbc60dc_a8ef_11ea_a6ce_f80f412b8562row0_col0\" class=\"data row0 col0\" >23</td>\n",
       "                        <td id=\"T_7cbc60dc_a8ef_11ea_a6ce_f80f412b8562row0_col1\" class=\"data row0 col1\" >$3.35</td>\n",
       "                        <td id=\"T_7cbc60dc_a8ef_11ea_a6ce_f80f412b8562row0_col2\" class=\"data row0 col2\" >$77.13</td>\n",
       "                        <td id=\"T_7cbc60dc_a8ef_11ea_a6ce_f80f412b8562row0_col3\" class=\"data row0 col3\" >$4.54</td>\n",
       "            </tr>\n",
       "            <tr>\n",
       "                        <th id=\"T_7cbc60dc_a8ef_11ea_a6ce_f80f412b8562level0_row1\" class=\"row_heading level0 row1\" >10~14</th>\n",
       "                        <td id=\"T_7cbc60dc_a8ef_11ea_a6ce_f80f412b8562row1_col0\" class=\"data row1 col0\" >28</td>\n",
       "                        <td id=\"T_7cbc60dc_a8ef_11ea_a6ce_f80f412b8562row1_col1\" class=\"data row1 col1\" >$2.96</td>\n",
       "                        <td id=\"T_7cbc60dc_a8ef_11ea_a6ce_f80f412b8562row1_col2\" class=\"data row1 col2\" >$82.78</td>\n",
       "                        <td id=\"T_7cbc60dc_a8ef_11ea_a6ce_f80f412b8562row1_col3\" class=\"data row1 col3\" >$3.76</td>\n",
       "            </tr>\n",
       "            <tr>\n",
       "                        <th id=\"T_7cbc60dc_a8ef_11ea_a6ce_f80f412b8562level0_row2\" class=\"row_heading level0 row2\" >15~19</th>\n",
       "                        <td id=\"T_7cbc60dc_a8ef_11ea_a6ce_f80f412b8562row2_col0\" class=\"data row2 col0\" >136</td>\n",
       "                        <td id=\"T_7cbc60dc_a8ef_11ea_a6ce_f80f412b8562row2_col1\" class=\"data row2 col1\" >$3.04</td>\n",
       "                        <td id=\"T_7cbc60dc_a8ef_11ea_a6ce_f80f412b8562row2_col2\" class=\"data row2 col2\" >$412.89</td>\n",
       "                        <td id=\"T_7cbc60dc_a8ef_11ea_a6ce_f80f412b8562row2_col3\" class=\"data row2 col3\" >$3.86</td>\n",
       "            </tr>\n",
       "            <tr>\n",
       "                        <th id=\"T_7cbc60dc_a8ef_11ea_a6ce_f80f412b8562level0_row3\" class=\"row_heading level0 row3\" >20~24</th>\n",
       "                        <td id=\"T_7cbc60dc_a8ef_11ea_a6ce_f80f412b8562row3_col0\" class=\"data row3 col0\" >365</td>\n",
       "                        <td id=\"T_7cbc60dc_a8ef_11ea_a6ce_f80f412b8562row3_col1\" class=\"data row3 col1\" >$3.05</td>\n",
       "                        <td id=\"T_7cbc60dc_a8ef_11ea_a6ce_f80f412b8562row3_col2\" class=\"data row3 col2\" >$1114.06</td>\n",
       "                        <td id=\"T_7cbc60dc_a8ef_11ea_a6ce_f80f412b8562row3_col3\" class=\"data row3 col3\" >$4.32</td>\n",
       "            </tr>\n",
       "            <tr>\n",
       "                        <th id=\"T_7cbc60dc_a8ef_11ea_a6ce_f80f412b8562level0_row4\" class=\"row_heading level0 row4\" >25~29</th>\n",
       "                        <td id=\"T_7cbc60dc_a8ef_11ea_a6ce_f80f412b8562row4_col0\" class=\"data row4 col0\" >101</td>\n",
       "                        <td id=\"T_7cbc60dc_a8ef_11ea_a6ce_f80f412b8562row4_col1\" class=\"data row4 col1\" >$2.90</td>\n",
       "                        <td id=\"T_7cbc60dc_a8ef_11ea_a6ce_f80f412b8562row4_col2\" class=\"data row4 col2\" >$293.00</td>\n",
       "                        <td id=\"T_7cbc60dc_a8ef_11ea_a6ce_f80f412b8562row4_col3\" class=\"data row4 col3\" >$3.81</td>\n",
       "            </tr>\n",
       "            <tr>\n",
       "                        <th id=\"T_7cbc60dc_a8ef_11ea_a6ce_f80f412b8562level0_row5\" class=\"row_heading level0 row5\" >30~34</th>\n",
       "                        <td id=\"T_7cbc60dc_a8ef_11ea_a6ce_f80f412b8562row5_col0\" class=\"data row5 col0\" >73</td>\n",
       "                        <td id=\"T_7cbc60dc_a8ef_11ea_a6ce_f80f412b8562row5_col1\" class=\"data row5 col1\" >$2.93</td>\n",
       "                        <td id=\"T_7cbc60dc_a8ef_11ea_a6ce_f80f412b8562row5_col2\" class=\"data row5 col2\" >$214.00</td>\n",
       "                        <td id=\"T_7cbc60dc_a8ef_11ea_a6ce_f80f412b8562row5_col3\" class=\"data row5 col3\" >$4.12</td>\n",
       "            </tr>\n",
       "            <tr>\n",
       "                        <th id=\"T_7cbc60dc_a8ef_11ea_a6ce_f80f412b8562level0_row6\" class=\"row_heading level0 row6\" >35~39</th>\n",
       "                        <td id=\"T_7cbc60dc_a8ef_11ea_a6ce_f80f412b8562row6_col0\" class=\"data row6 col0\" >41</td>\n",
       "                        <td id=\"T_7cbc60dc_a8ef_11ea_a6ce_f80f412b8562row6_col1\" class=\"data row6 col1\" >$3.60</td>\n",
       "                        <td id=\"T_7cbc60dc_a8ef_11ea_a6ce_f80f412b8562row6_col2\" class=\"data row6 col2\" >$147.67</td>\n",
       "                        <td id=\"T_7cbc60dc_a8ef_11ea_a6ce_f80f412b8562row6_col3\" class=\"data row6 col3\" >$4.76</td>\n",
       "            </tr>\n",
       "            <tr>\n",
       "                        <th id=\"T_7cbc60dc_a8ef_11ea_a6ce_f80f412b8562level0_row7\" class=\"row_heading level0 row7\" >40+</th>\n",
       "                        <td id=\"T_7cbc60dc_a8ef_11ea_a6ce_f80f412b8562row7_col0\" class=\"data row7 col0\" >13</td>\n",
       "                        <td id=\"T_7cbc60dc_a8ef_11ea_a6ce_f80f412b8562row7_col1\" class=\"data row7 col1\" >$2.94</td>\n",
       "                        <td id=\"T_7cbc60dc_a8ef_11ea_a6ce_f80f412b8562row7_col2\" class=\"data row7 col2\" >$38.24</td>\n",
       "                        <td id=\"T_7cbc60dc_a8ef_11ea_a6ce_f80f412b8562row7_col3\" class=\"data row7 col3\" >$3.19</td>\n",
       "            </tr>\n",
       "    </tbody></table>"
      ],
      "text/plain": [
       "<pandas.io.formats.style.Styler at 0x16818bdc4c8>"
      ]
     },
     "execution_count": 13,
     "metadata": {},
     "output_type": "execute_result"
    }
   ],
   "source": [
    "#purchase count by Age group\n",
    "p_count = grpBy_ageGroup[\"Count\"].count()\n",
    "# average purchase price by Age group\n",
    "avg_pPrice = grpBy_ageGroup[\"Price\"].mean()\n",
    "# total purchase value by Age group\n",
    "tot_pValue = grpBy_ageGroup[\"Price\"].sum()\n",
    "# average total purchase per person\n",
    "avg_totP_p = tot_pValue/playerCount\n",
    "\n",
    "#Create a summary data frame to hold the results\n",
    "Purchase_analysis_age_df=pd.DataFrame({\"Purchase Count\":p_count,\n",
    "                         \"Average Purchase Price\":avg_pPrice,\n",
    "                        \"Total Purchase Value\":tot_pValue,\n",
    "                        \"Avg Total Purchase per Person\":avg_totP_p})\n",
    "\n",
    "#Optional: round the percentage column to two decimal points \n",
    "Purchase_analysis_age_df.head(8).style.format({\"Average Purchase Price\":\"${:.2f}\",\n",
    "                                               \"Total Purchase Value\":\"${:.2f}\",\n",
    "                                               \"Avg Total Purchase per Person\":\"${:.2f}\"})"
   ]
  },
  {
   "cell_type": "markdown",
   "metadata": {},
   "source": [
    "7. Top Spenders"
   ]
  },
  {
   "cell_type": "code",
   "execution_count": 14,
   "metadata": {},
   "outputs": [
    {
     "data": {
      "text/html": [
       "<style  type=\"text/css\" >\n",
       "</style><table id=\"T_0a863440_a8f2_11ea_8df7_f80f412b8562\" ><thead>    <tr>        <th class=\"blank level0\" ></th>        <th class=\"col_heading level0 col0\" >Purchase Count</th>        <th class=\"col_heading level0 col1\" >Average Purchase Price</th>        <th class=\"col_heading level0 col2\" >Total Purchase Value</th>    </tr>    <tr>        <th class=\"index_name level0\" >SN</th>        <th class=\"blank\" ></th>        <th class=\"blank\" ></th>        <th class=\"blank\" ></th>    </tr></thead><tbody>\n",
       "                <tr>\n",
       "                        <th id=\"T_0a863440_a8f2_11ea_8df7_f80f412b8562level0_row0\" class=\"row_heading level0 row0\" >Lisosia93</th>\n",
       "                        <td id=\"T_0a863440_a8f2_11ea_8df7_f80f412b8562row0_col0\" class=\"data row0 col0\" >5</td>\n",
       "                        <td id=\"T_0a863440_a8f2_11ea_8df7_f80f412b8562row0_col1\" class=\"data row0 col1\" >$3.79</td>\n",
       "                        <td id=\"T_0a863440_a8f2_11ea_8df7_f80f412b8562row0_col2\" class=\"data row0 col2\" >$18.96</td>\n",
       "            </tr>\n",
       "            <tr>\n",
       "                        <th id=\"T_0a863440_a8f2_11ea_8df7_f80f412b8562level0_row1\" class=\"row_heading level0 row1\" >Idastidru52</th>\n",
       "                        <td id=\"T_0a863440_a8f2_11ea_8df7_f80f412b8562row1_col0\" class=\"data row1 col0\" >4</td>\n",
       "                        <td id=\"T_0a863440_a8f2_11ea_8df7_f80f412b8562row1_col1\" class=\"data row1 col1\" >$3.86</td>\n",
       "                        <td id=\"T_0a863440_a8f2_11ea_8df7_f80f412b8562row1_col2\" class=\"data row1 col2\" >$15.45</td>\n",
       "            </tr>\n",
       "            <tr>\n",
       "                        <th id=\"T_0a863440_a8f2_11ea_8df7_f80f412b8562level0_row2\" class=\"row_heading level0 row2\" >Chamjask73</th>\n",
       "                        <td id=\"T_0a863440_a8f2_11ea_8df7_f80f412b8562row2_col0\" class=\"data row2 col0\" >3</td>\n",
       "                        <td id=\"T_0a863440_a8f2_11ea_8df7_f80f412b8562row2_col1\" class=\"data row2 col1\" >$4.61</td>\n",
       "                        <td id=\"T_0a863440_a8f2_11ea_8df7_f80f412b8562row2_col2\" class=\"data row2 col2\" >$13.83</td>\n",
       "            </tr>\n",
       "            <tr>\n",
       "                        <th id=\"T_0a863440_a8f2_11ea_8df7_f80f412b8562level0_row3\" class=\"row_heading level0 row3\" >Iral74</th>\n",
       "                        <td id=\"T_0a863440_a8f2_11ea_8df7_f80f412b8562row3_col0\" class=\"data row3 col0\" >4</td>\n",
       "                        <td id=\"T_0a863440_a8f2_11ea_8df7_f80f412b8562row3_col1\" class=\"data row3 col1\" >$3.40</td>\n",
       "                        <td id=\"T_0a863440_a8f2_11ea_8df7_f80f412b8562row3_col2\" class=\"data row3 col2\" >$13.62</td>\n",
       "            </tr>\n",
       "            <tr>\n",
       "                        <th id=\"T_0a863440_a8f2_11ea_8df7_f80f412b8562level0_row4\" class=\"row_heading level0 row4\" >Iskadarya95</th>\n",
       "                        <td id=\"T_0a863440_a8f2_11ea_8df7_f80f412b8562row4_col0\" class=\"data row4 col0\" >3</td>\n",
       "                        <td id=\"T_0a863440_a8f2_11ea_8df7_f80f412b8562row4_col1\" class=\"data row4 col1\" >$4.37</td>\n",
       "                        <td id=\"T_0a863440_a8f2_11ea_8df7_f80f412b8562row4_col2\" class=\"data row4 col2\" >$13.10</td>\n",
       "            </tr>\n",
       "    </tbody></table>"
      ],
      "text/plain": [
       "<pandas.io.formats.style.Styler at 0x16818ef5748>"
      ]
     },
     "execution_count": 14,
     "metadata": {},
     "output_type": "execute_result"
    }
   ],
   "source": [
    "#Q7 Top Spenders #########################################################\n",
    "\n",
    "#groupby SN\n",
    "grpBy_SN = purchase_data.groupby(['SN'])\n",
    "grpBy_SN_pCount = grpBy_SN['Count'].count()\n",
    "grpBy_SN_aPrice = grpBy_SN['Price'].mean()\n",
    "grpBy_SN_tPurchase = grpBy_SN['Price'].sum()\n",
    "\n",
    "#make dataframe\n",
    "topSpenders_df = pd.DataFrame({\"Purchase Count\":grpBy_SN_pCount,\n",
    "                            \"Average Purchase Price\":grpBy_SN_aPrice,\n",
    "                            \"Total Purchase Value\":grpBy_SN_tPurchase} \n",
    "                           )\n",
    "\n",
    "#sort by total purchase value decending\n",
    "topSpenders_sorted_df=topSpenders_df.sort_values('Total Purchase Value', ascending =False)\n",
    "\n",
    "#format\n",
    "topSpenders_sorted_formatted=topSpenders_sorted_df.head(5).style.format({\"Average Purchase Price\":\"${:,.2f}\",\n",
    "                                    \"Total Purchase Value\":\"${:,.2f}\"})\n",
    "topSpenders_sorted_formatted\n"
   ]
  },
  {
   "cell_type": "markdown",
   "metadata": {},
   "source": [
    "8. Most Popular Items"
   ]
  },
  {
   "cell_type": "code",
   "execution_count": 15,
   "metadata": {
    "scrolled": true
   },
   "outputs": [
    {
     "data": {
      "text/html": [
       "<style  type=\"text/css\" >\n",
       "</style><table id=\"T_c56de42e_a8f2_11ea_9de6_f80f412b8562\" ><thead>    <tr>        <th class=\"blank\" ></th>        <th class=\"blank level0\" ></th>        <th class=\"col_heading level0 col0\" >Purchase Count</th>        <th class=\"col_heading level0 col1\" >Item Price</th>        <th class=\"col_heading level0 col2\" >Total Purchase Value</th>    </tr>    <tr>        <th class=\"index_name level0\" >Item ID</th>        <th class=\"index_name level1\" >Item Name</th>        <th class=\"blank\" ></th>        <th class=\"blank\" ></th>        <th class=\"blank\" ></th>    </tr></thead><tbody>\n",
       "                <tr>\n",
       "                        <th id=\"T_c56de42e_a8f2_11ea_9de6_f80f412b8562level0_row0\" class=\"row_heading level0 row0\" >92</th>\n",
       "                        <th id=\"T_c56de42e_a8f2_11ea_9de6_f80f412b8562level1_row0\" class=\"row_heading level1 row0\" >Final Critic</th>\n",
       "                        <td id=\"T_c56de42e_a8f2_11ea_9de6_f80f412b8562row0_col0\" class=\"data row0 col0\" >13</td>\n",
       "                        <td id=\"T_c56de42e_a8f2_11ea_9de6_f80f412b8562row0_col1\" class=\"data row0 col1\" >$4.61</td>\n",
       "                        <td id=\"T_c56de42e_a8f2_11ea_9de6_f80f412b8562row0_col2\" class=\"data row0 col2\" >$59.99</td>\n",
       "            </tr>\n",
       "            <tr>\n",
       "                        <th id=\"T_c56de42e_a8f2_11ea_9de6_f80f412b8562level0_row1\" class=\"row_heading level0 row1\" >178</th>\n",
       "                        <th id=\"T_c56de42e_a8f2_11ea_9de6_f80f412b8562level1_row1\" class=\"row_heading level1 row1\" >Oathbreaker, Last Hope of the Breaking Storm</th>\n",
       "                        <td id=\"T_c56de42e_a8f2_11ea_9de6_f80f412b8562row1_col0\" class=\"data row1 col0\" >12</td>\n",
       "                        <td id=\"T_c56de42e_a8f2_11ea_9de6_f80f412b8562row1_col1\" class=\"data row1 col1\" >$4.23</td>\n",
       "                        <td id=\"T_c56de42e_a8f2_11ea_9de6_f80f412b8562row1_col2\" class=\"data row1 col2\" >$50.76</td>\n",
       "            </tr>\n",
       "            <tr>\n",
       "                        <th id=\"T_c56de42e_a8f2_11ea_9de6_f80f412b8562level0_row2\" class=\"row_heading level0 row2\" >145</th>\n",
       "                        <th id=\"T_c56de42e_a8f2_11ea_9de6_f80f412b8562level1_row2\" class=\"row_heading level1 row2\" >Fiery Glass Crusader</th>\n",
       "                        <td id=\"T_c56de42e_a8f2_11ea_9de6_f80f412b8562row2_col0\" class=\"data row2 col0\" >9</td>\n",
       "                        <td id=\"T_c56de42e_a8f2_11ea_9de6_f80f412b8562row2_col1\" class=\"data row2 col1\" >$4.58</td>\n",
       "                        <td id=\"T_c56de42e_a8f2_11ea_9de6_f80f412b8562row2_col2\" class=\"data row2 col2\" >$41.22</td>\n",
       "            </tr>\n",
       "            <tr>\n",
       "                        <th id=\"T_c56de42e_a8f2_11ea_9de6_f80f412b8562level0_row3\" class=\"row_heading level0 row3\" >132</th>\n",
       "                        <th id=\"T_c56de42e_a8f2_11ea_9de6_f80f412b8562level1_row3\" class=\"row_heading level1 row3\" >Persuasion</th>\n",
       "                        <td id=\"T_c56de42e_a8f2_11ea_9de6_f80f412b8562row3_col0\" class=\"data row3 col0\" >9</td>\n",
       "                        <td id=\"T_c56de42e_a8f2_11ea_9de6_f80f412b8562row3_col1\" class=\"data row3 col1\" >$3.22</td>\n",
       "                        <td id=\"T_c56de42e_a8f2_11ea_9de6_f80f412b8562row3_col2\" class=\"data row3 col2\" >$28.99</td>\n",
       "            </tr>\n",
       "            <tr>\n",
       "                        <th id=\"T_c56de42e_a8f2_11ea_9de6_f80f412b8562level0_row4\" class=\"row_heading level0 row4\" >108</th>\n",
       "                        <th id=\"T_c56de42e_a8f2_11ea_9de6_f80f412b8562level1_row4\" class=\"row_heading level1 row4\" >Extraction, Quickblade Of Trembling Hands</th>\n",
       "                        <td id=\"T_c56de42e_a8f2_11ea_9de6_f80f412b8562row4_col0\" class=\"data row4 col0\" >9</td>\n",
       "                        <td id=\"T_c56de42e_a8f2_11ea_9de6_f80f412b8562row4_col1\" class=\"data row4 col1\" >$3.53</td>\n",
       "                        <td id=\"T_c56de42e_a8f2_11ea_9de6_f80f412b8562row4_col2\" class=\"data row4 col2\" >$31.77</td>\n",
       "            </tr>\n",
       "    </tbody></table>"
      ],
      "text/plain": [
       "<pandas.io.formats.style.Styler at 0x1681ab8f188>"
      ]
     },
     "execution_count": 15,
     "metadata": {},
     "output_type": "execute_result"
    }
   ],
   "source": [
    "#Group by Item ID and Item Name.\n",
    "grpBy_Item = purchase_data.groupby([\"Item ID\", \"Item Name\"])\n",
    "\n",
    "# purchase count, item price, and total purchase value by Item\n",
    "purCount = grpBy_Item['Count'].count()\n",
    "priceCount = grpBy_Item['Price'].count()\n",
    "tot_pur_value = grpBy_Item['Price'].sum()\n",
    "itemPrice = tot_pur_value/priceCount\n",
    "\n",
    "#Create a summary data frame to hold the results\n",
    "Items_df = pd.DataFrame({\"Purchase Count\":purCount ,\n",
    "                               \"Item Price\":itemPrice ,\n",
    "                               \"Total Purchase Value\":tot_pur_value})\n",
    "\n",
    "#Sort the purchase count column in descending order\n",
    "mostPopItems_sorted_df = Items_df.sort_values(\"Purchase Count\", ascending =False)\n",
    "#format and preview\n",
    "mostPopItems_sorted_formatted = mostPopItems_sorted_df.head(5).style.format(\n",
    "    {\"Item Price\":\"${:,.2f}\",\"Total Purchase Value\":\"${:,.2f}\"})\n",
    "mostPopItems_sorted_formatted\n"
   ]
  },
  {
   "cell_type": "markdown",
   "metadata": {},
   "source": [
    "9. Most Profitable Items"
   ]
  },
  {
   "cell_type": "code",
   "execution_count": 16,
   "metadata": {},
   "outputs": [
    {
     "data": {
      "text/html": [
       "<style  type=\"text/css\" >\n",
       "</style><table id=\"T_f2059b24_a8f2_11ea_ab6b_f80f412b8562\" ><thead>    <tr>        <th class=\"blank\" ></th>        <th class=\"blank level0\" ></th>        <th class=\"col_heading level0 col0\" >Purchase Count</th>        <th class=\"col_heading level0 col1\" >Item Price</th>        <th class=\"col_heading level0 col2\" >Total Purchase Value</th>    </tr>    <tr>        <th class=\"index_name level0\" >Item ID</th>        <th class=\"index_name level1\" >Item Name</th>        <th class=\"blank\" ></th>        <th class=\"blank\" ></th>        <th class=\"blank\" ></th>    </tr></thead><tbody>\n",
       "                <tr>\n",
       "                        <th id=\"T_f2059b24_a8f2_11ea_ab6b_f80f412b8562level0_row0\" class=\"row_heading level0 row0\" >92</th>\n",
       "                        <th id=\"T_f2059b24_a8f2_11ea_ab6b_f80f412b8562level1_row0\" class=\"row_heading level1 row0\" >Final Critic</th>\n",
       "                        <td id=\"T_f2059b24_a8f2_11ea_ab6b_f80f412b8562row0_col0\" class=\"data row0 col0\" >13</td>\n",
       "                        <td id=\"T_f2059b24_a8f2_11ea_ab6b_f80f412b8562row0_col1\" class=\"data row0 col1\" >$4.61</td>\n",
       "                        <td id=\"T_f2059b24_a8f2_11ea_ab6b_f80f412b8562row0_col2\" class=\"data row0 col2\" >$59.99</td>\n",
       "            </tr>\n",
       "            <tr>\n",
       "                        <th id=\"T_f2059b24_a8f2_11ea_ab6b_f80f412b8562level0_row1\" class=\"row_heading level0 row1\" >178</th>\n",
       "                        <th id=\"T_f2059b24_a8f2_11ea_ab6b_f80f412b8562level1_row1\" class=\"row_heading level1 row1\" >Oathbreaker, Last Hope of the Breaking Storm</th>\n",
       "                        <td id=\"T_f2059b24_a8f2_11ea_ab6b_f80f412b8562row1_col0\" class=\"data row1 col0\" >12</td>\n",
       "                        <td id=\"T_f2059b24_a8f2_11ea_ab6b_f80f412b8562row1_col1\" class=\"data row1 col1\" >$4.23</td>\n",
       "                        <td id=\"T_f2059b24_a8f2_11ea_ab6b_f80f412b8562row1_col2\" class=\"data row1 col2\" >$50.76</td>\n",
       "            </tr>\n",
       "            <tr>\n",
       "                        <th id=\"T_f2059b24_a8f2_11ea_ab6b_f80f412b8562level0_row2\" class=\"row_heading level0 row2\" >82</th>\n",
       "                        <th id=\"T_f2059b24_a8f2_11ea_ab6b_f80f412b8562level1_row2\" class=\"row_heading level1 row2\" >Nirvana</th>\n",
       "                        <td id=\"T_f2059b24_a8f2_11ea_ab6b_f80f412b8562row2_col0\" class=\"data row2 col0\" >9</td>\n",
       "                        <td id=\"T_f2059b24_a8f2_11ea_ab6b_f80f412b8562row2_col1\" class=\"data row2 col1\" >$4.90</td>\n",
       "                        <td id=\"T_f2059b24_a8f2_11ea_ab6b_f80f412b8562row2_col2\" class=\"data row2 col2\" >$44.10</td>\n",
       "            </tr>\n",
       "            <tr>\n",
       "                        <th id=\"T_f2059b24_a8f2_11ea_ab6b_f80f412b8562level0_row3\" class=\"row_heading level0 row3\" >145</th>\n",
       "                        <th id=\"T_f2059b24_a8f2_11ea_ab6b_f80f412b8562level1_row3\" class=\"row_heading level1 row3\" >Fiery Glass Crusader</th>\n",
       "                        <td id=\"T_f2059b24_a8f2_11ea_ab6b_f80f412b8562row3_col0\" class=\"data row3 col0\" >9</td>\n",
       "                        <td id=\"T_f2059b24_a8f2_11ea_ab6b_f80f412b8562row3_col1\" class=\"data row3 col1\" >$4.58</td>\n",
       "                        <td id=\"T_f2059b24_a8f2_11ea_ab6b_f80f412b8562row3_col2\" class=\"data row3 col2\" >$41.22</td>\n",
       "            </tr>\n",
       "            <tr>\n",
       "                        <th id=\"T_f2059b24_a8f2_11ea_ab6b_f80f412b8562level0_row4\" class=\"row_heading level0 row4\" >103</th>\n",
       "                        <th id=\"T_f2059b24_a8f2_11ea_ab6b_f80f412b8562level1_row4\" class=\"row_heading level1 row4\" >Singed Scalpel</th>\n",
       "                        <td id=\"T_f2059b24_a8f2_11ea_ab6b_f80f412b8562row4_col0\" class=\"data row4 col0\" >8</td>\n",
       "                        <td id=\"T_f2059b24_a8f2_11ea_ab6b_f80f412b8562row4_col1\" class=\"data row4 col1\" >$4.35</td>\n",
       "                        <td id=\"T_f2059b24_a8f2_11ea_ab6b_f80f412b8562row4_col2\" class=\"data row4 col2\" >$34.80</td>\n",
       "            </tr>\n",
       "    </tbody></table>"
      ],
      "text/plain": [
       "<pandas.io.formats.style.Styler at 0x1681ab8f308>"
      ]
     },
     "execution_count": 16,
     "metadata": {},
     "output_type": "execute_result"
    }
   ],
   "source": [
    "#Sort the above table by total purchase value in descending order\n",
    "mostProfitItems_sorted_df = Items_df.sort_values(\"Total Purchase Value\", ascending =False)\n",
    "\n",
    "#preview\n",
    "mostProfitItems_sorted_formatted = mostProfitItems_sorted_df.head(5).style.format(\n",
    "    {\"Item Price\":\"${:,.2f}\",\"Total Purchase Value\":\"${:,.2f}\"})\n",
    "mostProfitItems_sorted_formatted\n"
   ]
  },
  {
   "cell_type": "code",
   "execution_count": null,
   "metadata": {},
   "outputs": [],
   "source": []
  }
 ],
 "metadata": {
  "kernelspec": {
   "display_name": "Python 3",
   "language": "python",
   "name": "python3"
  },
  "language_info": {
   "codemirror_mode": {
    "name": "ipython",
    "version": 3
   },
   "file_extension": ".py",
   "mimetype": "text/x-python",
   "name": "python",
   "nbconvert_exporter": "python",
   "pygments_lexer": "ipython3",
   "version": "3.7.6"
  },
  "toc": {
   "base_numbering": 1,
   "nav_menu": {},
   "number_sections": true,
   "sideBar": true,
   "skip_h1_title": false,
   "title_cell": "Table of Contents",
   "title_sidebar": "Contents",
   "toc_cell": false,
   "toc_position": {},
   "toc_section_display": true,
   "toc_window_display": false
  }
 },
 "nbformat": 4,
 "nbformat_minor": 4
}
